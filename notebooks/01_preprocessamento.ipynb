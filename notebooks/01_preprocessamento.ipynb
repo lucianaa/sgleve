{
 "cells": [
  {
   "cell_type": "markdown",
   "id": "df36a163",
   "metadata": {},
   "source": [
    "# Notebook 01 - Pré-processamento de Dados (MG, RJ, SP)\n",
    "\n",
    "Este notebook tem como objetivo carregar os arquivos CSV originais, aplicar um pré-processamento inicial e gerar versões mais leves para análises futuras.\n",
    "\n",
    "---\n",
    "\n",
    "## 1. Importação de bibliotecas\n"
   ]
  },
  {
   "cell_type": "code",
   "execution_count": 52,
   "id": "c67fb14e",
   "metadata": {},
   "outputs": [
    {
     "name": "stdout",
     "output_type": "stream",
     "text": [
      "Requirement already satisfied: pandas in c:\\users\\lucia\\appdata\\local\\programs\\python\\python312\\lib\\site-packages (2.3.2)\n",
      "Requirement already satisfied: numpy>=1.26.0 in c:\\users\\lucia\\appdata\\local\\programs\\python\\python312\\lib\\site-packages (from pandas) (2.3.3)\n",
      "Requirement already satisfied: python-dateutil>=2.8.2 in c:\\users\\lucia\\appdata\\roaming\\python\\python312\\site-packages (from pandas) (2.9.0.post0)\n",
      "Requirement already satisfied: pytz>=2020.1 in c:\\users\\lucia\\appdata\\local\\programs\\python\\python312\\lib\\site-packages (from pandas) (2025.2)\n",
      "Requirement already satisfied: tzdata>=2022.7 in c:\\users\\lucia\\appdata\\local\\programs\\python\\python312\\lib\\site-packages (from pandas) (2025.2)\n",
      "Requirement already satisfied: six>=1.5 in c:\\users\\lucia\\appdata\\roaming\\python\\python312\\site-packages (from python-dateutil>=2.8.2->pandas) (1.17.0)\n",
      "Note: you may need to restart the kernel to use updated packages.\n",
      "Requirement already satisfied: fastparquet in c:\\users\\lucia\\appdata\\local\\programs\\python\\python312\\lib\\site-packages (2024.11.0)\n",
      "Requirement already satisfied: pandas>=1.5.0 in c:\\users\\lucia\\appdata\\local\\programs\\python\\python312\\lib\\site-packages (from fastparquet) (2.3.2)\n",
      "Requirement already satisfied: numpy in c:\\users\\lucia\\appdata\\local\\programs\\python\\python312\\lib\\site-packages (from fastparquet) (2.3.3)\n",
      "Requirement already satisfied: cramjam>=2.3 in c:\\users\\lucia\\appdata\\local\\programs\\python\\python312\\lib\\site-packages (from fastparquet) (2.11.0)\n",
      "Requirement already satisfied: fsspec in c:\\users\\lucia\\appdata\\local\\programs\\python\\python312\\lib\\site-packages (from fastparquet) (2025.9.0)\n",
      "Requirement already satisfied: packaging in c:\\users\\lucia\\appdata\\roaming\\python\\python312\\site-packages (from fastparquet) (25.0)\n",
      "Requirement already satisfied: python-dateutil>=2.8.2 in c:\\users\\lucia\\appdata\\roaming\\python\\python312\\site-packages (from pandas>=1.5.0->fastparquet) (2.9.0.post0)\n",
      "Requirement already satisfied: pytz>=2020.1 in c:\\users\\lucia\\appdata\\local\\programs\\python\\python312\\lib\\site-packages (from pandas>=1.5.0->fastparquet) (2025.2)\n",
      "Requirement already satisfied: tzdata>=2022.7 in c:\\users\\lucia\\appdata\\local\\programs\\python\\python312\\lib\\site-packages (from pandas>=1.5.0->fastparquet) (2025.2)\n",
      "Requirement already satisfied: six>=1.5 in c:\\users\\lucia\\appdata\\roaming\\python\\python312\\site-packages (from python-dateutil>=2.8.2->pandas>=1.5.0->fastparquet) (1.17.0)\n",
      "Note: you may need to restart the kernel to use updated packages.\n"
     ]
    }
   ],
   "source": [
    "#instalação, se não tiver.\n",
    "%pip install pandas\n",
    "%pip install fastparquet"
   ]
  },
  {
   "cell_type": "code",
   "execution_count": 53,
   "id": "d6de5ccb",
   "metadata": {},
   "outputs": [],
   "source": [
    "import pandas as pd\n",
    "import os"
   ]
  },
  {
   "cell_type": "markdown",
   "id": "3cd7dff3",
   "metadata": {},
   "source": [
    "## 2. Definição de caminhos dos arquivos\n",
    "\n",
    "Os dados originais estão na pasta `data/`.  \n",
    "Os arquivos reduzidos serão salvos em `data/processed/`."
   ]
  },
  {
   "cell_type": "code",
   "execution_count": 54,
   "id": "f3f75a1d",
   "metadata": {},
   "outputs": [],
   "source": [
    "# Dicionário com os arquivos\n",
    "files = {\n",
    "    \"MG\": \"../data/sgmg.csv\",\n",
    "    \"RJ\": \"../data/sgrj.csv\",\n",
    "    \"SP\": \"../data/sgsp.csv\"\n",
    "}"
   ]
  },
  {
   "cell_type": "markdown",
   "id": "c1bb9155",
   "metadata": {},
   "source": [
    "## 3. Contagem de Linhas não padronizadas"
   ]
  },
  {
   "cell_type": "code",
   "execution_count": 55,
   "id": "f74c3f1b",
   "metadata": {},
   "outputs": [],
   "source": [
    "def contar_bad_lines(path, expected_fields=64, sep=\";\",engine=\"python\"):\n",
    "    bad_count = 0\n",
    "    with open(path, \"r\", encoding=\"utf-8\") as f:\n",
    "        for i, line in enumerate(f):\n",
    "            if line.count(sep) != expected_fields - 1:  # separadores = campos - 1\n",
    "                bad_count += 1\n",
    "    return bad_count"
   ]
  },
  {
   "cell_type": "code",
   "execution_count": 56,
   "id": "2fd1ea49",
   "metadata": {},
   "outputs": [
    {
     "name": "stdout",
     "output_type": "stream",
     "text": [
      "\n",
      "--- MG ---\n",
      "Linhas problemáticas detectadas: 611\n",
      "\n",
      "--- RJ ---\n",
      "Linhas problemáticas detectadas: 379\n",
      "\n",
      "--- SP ---\n",
      "Linhas problemáticas detectadas: 2251\n"
     ]
    }
   ],
   "source": [
    "#Conta as linhas quebradas (bad lines = número errado de colunas)\n",
    "for uf, path in files.items():\n",
    "    if os.path.exists(path):\n",
    "        print(f\"\\n--- {uf} ---\")\n",
    "        \n",
    "        # 1. Contar linhas ruins\n",
    "        bad_count = contar_bad_lines(path, expected_fields=64, sep=\";\")\n",
    "        print(f\"Linhas problemáticas detectadas: {bad_count}\")"
   ]
  },
  {
   "cell_type": "markdown",
   "id": "0d4fff4d",
   "metadata": {},
   "source": [
    "##  4. Carregar apenas as linhas consistentes\n",
    "Verifica-se também informações básicas para check de consistência"
   ]
  },
  {
   "cell_type": "code",
   "execution_count": 60,
   "id": "f6d74a99",
   "metadata": {},
   "outputs": [
    {
     "name": "stdout",
     "output_type": "stream",
     "text": [
      "\n",
      "--- MG ---\n",
      "Colunas: ['sintomas', 'profissionalsaude', 'racacor', 'outrossintomas', 'outrascondicoes', 'profissionalseguranca', 'cbo', 'condicoes', 'sexo', 'estado', 'estadoibge', 'municipio', 'municipioibge', 'origem', 'estadonotificacao', 'municipionotificacao', 'municipionotificacaoibge', 'evolucaocaso', 'classificacaofinal', 'codigoestrategiacovid', 'codigobuscaativaassintomatico', 'outrobuscaativaassintomatico', 'codigotriagempopulacaoespecifica', 'outrotriagempopulacaoespecifica', 'codigolocalrealizacaotestagem', 'outrolocalrealizacaotestagem', 'codigorecebeuvacina', 'codigolaboratorioprimeiradose', 'codigolaboratoriosegundadose', 'loteprimeiradose', 'lotesegundadose', 'codigocontemcomunidadetradicional', 'source_id', 'excluido', 'validado', 'codigodosesvacina', 'estadonotificacaoibge', 'totaltestesrealizados', 'datanotificacao', 'datainiciosintomas', 'dataencerramento', 'dataprimeiradose', 'datasegundadose', 'codigoestadoteste1', 'codigotipoteste1', 'codigofabricanteteste1', 'codigoresultadoteste1', 'codigoestadoteste2', 'codigotipoteste2', 'codigofabricanteteste2', 'codigoresultadoteste2', 'codigoestadoteste3', 'codigotipoteste3', 'codigofabricanteteste3', 'codigoresultadoteste3', 'codigoestadoteste4', 'codigotipoteste4', 'codigofabricanteteste4', 'codigoresultadoteste4', 'datacoletateste1', 'datacoletateste2', 'datacoletateste3', 'datacoletateste4', 'idade'] ...\n",
      "Shape: (554506, 64)\n",
      "\n",
      "Municípios (amostra):\n",
      "['Nova Lima' 'Montes Claros' 'Pouso Alegre' 'Lambari' 'Passos' 'Contagem'\n",
      " 'Diamantina' 'Bom Sucesso' 'Uberaba' 'Conquista' 'Ituiutaba'\n",
      " 'Córrego Fundo' 'Cachoeira de Minas' 'União de Minas' 'Gouveia' 'Itajubá'\n",
      " 'Belo Oriente' 'Piumhi' 'Mantena' 'Conceição dos Ouros']\n",
      "\n",
      "Top 10 municípios:\n",
      "municipio\n",
      "Belo Horizonte    76344\n",
      "Montes Claros     55545\n",
      "Nova Lima         29412\n",
      "Contagem          19428\n",
      "Itajubá           11346\n",
      "Uberlândia        10312\n",
      "Uberaba            9781\n",
      "Araguari           9508\n",
      "Lavras             8600\n",
      "Passos             7369\n",
      "Name: count, dtype: int64\n",
      "Salvo em ../data/processed/mg_clean.parquet com fastparquet e compressão gzip.\n",
      "\n",
      "--- RJ ---\n",
      "Colunas: ['sintomas', 'profissionalsaude', 'racacor', 'outrossintomas', 'outrascondicoes', 'profissionalseguranca', 'cbo', 'condicoes', 'sexo', 'estado', 'estadoibge', 'municipio', 'municipioibge', 'origem', 'estadonotificacao', 'municipionotificacao', 'municipionotificacaoibge', 'evolucaocaso', 'classificacaofinal', 'codigoestrategiacovid', 'codigobuscaativaassintomatico', 'outrobuscaativaassintomatico', 'codigotriagempopulacaoespecifica', 'outrotriagempopulacaoespecifica', 'codigolocalrealizacaotestagem', 'outrolocalrealizacaotestagem', 'codigorecebeuvacina', 'codigolaboratorioprimeiradose', 'codigolaboratoriosegundadose', 'loteprimeiradose', 'lotesegundadose', 'codigocontemcomunidadetradicional', 'source_id', 'excluido', 'validado', 'codigodosesvacina', 'estadonotificacaoibge', 'totaltestesrealizados', 'datanotificacao', 'datainiciosintomas', 'dataencerramento', 'dataprimeiradose', 'datasegundadose', 'codigoestadoteste1', 'codigotipoteste1', 'codigofabricanteteste1', 'codigoresultadoteste1', 'codigoestadoteste2', 'codigotipoteste2', 'codigofabricanteteste2', 'codigoresultadoteste2', 'codigoestadoteste3', 'codigotipoteste3', 'codigofabricanteteste3', 'codigoresultadoteste3', 'codigoestadoteste4', 'codigotipoteste4', 'codigofabricanteteste4', 'codigoresultadoteste4', 'datacoletateste1', 'datacoletateste2', 'datacoletateste3', 'datacoletateste4', 'idade'] ...\n",
      "Shape: (838505, 64)\n",
      "\n",
      "Municípios (amostra):\n",
      "['Rio de Janeiro' 'Santana' 'Guarujá' 'São João de Meriti' 'Carnaubal'\n",
      " 'Rio Bonito' 'São Gonçalo' 'Itaperuna' 'Carapebus' 'Joinville'\n",
      " 'Petrópolis' 'Nova Lima' 'Valença' 'Cabo Frio' 'Magé' 'Itapema' 'Itaguaí'\n",
      " 'Caraúbas do Piauí' 'Domingos Mourão' 'Taquaritinga']\n",
      "\n",
      "Top 10 municípios:\n",
      "municipio\n",
      "Rio de Janeiro        464357\n",
      "São Gonçalo            92464\n",
      "Nova Iguaçu            36513\n",
      "Petrópolis             22640\n",
      "Volta Redonda          18532\n",
      "Niterói                15063\n",
      "Maricá                 13172\n",
      "Valença                11555\n",
      "Angra dos Reis         11470\n",
      "São João de Meriti      9158\n",
      "Name: count, dtype: int64\n",
      "Salvo em ../data/processed/rj_clean.parquet com fastparquet e compressão gzip.\n",
      "\n",
      "--- SP ---\n",
      "Colunas: ['sintomas', 'profissionalsaude', 'racacor', 'outrossintomas', 'outrascondicoes', 'profissionalseguranca', 'cbo', 'condicoes', 'sexo', 'estado', 'estadoibge', 'municipio', 'municipioibge', 'origem', 'estadonotificacao', 'municipionotificacao', 'municipionotificacaoibge', 'evolucaocaso', 'classificacaofinal', 'codigoestrategiacovid', 'codigobuscaativaassintomatico', 'outrobuscaativaassintomatico', 'codigotriagempopulacaoespecifica', 'outrotriagempopulacaoespecifica', 'codigolocalrealizacaotestagem', 'outrolocalrealizacaotestagem', 'codigorecebeuvacina', 'codigolaboratorioprimeiradose', 'codigolaboratoriosegundadose', 'loteprimeiradose', 'lotesegundadose', 'codigocontemcomunidadetradicional', 'source_id', 'excluido', 'validado', 'codigodosesvacina', 'estadonotificacaoibge', 'totaltestesrealizados', 'datanotificacao', 'datainiciosintomas', 'dataencerramento', 'dataprimeiradose', 'datasegundadose', 'codigoestadoteste1', 'codigotipoteste1', 'codigofabricanteteste1', 'codigoresultadoteste1', 'codigoestadoteste2', 'codigotipoteste2', 'codigofabricanteteste2', 'codigoresultadoteste2', 'codigoestadoteste3', 'codigotipoteste3', 'codigofabricanteteste3', 'codigoresultadoteste3', 'codigoestadoteste4', 'codigotipoteste4', 'codigofabricanteteste4', 'codigoresultadoteste4', 'datacoletateste1', 'datacoletateste2', 'datacoletateste3', 'datacoletateste4', 'idade'] ...\n",
      "Shape: (2226476, 64)\n",
      "\n",
      "Municípios (amostra):\n",
      "['Santo André' 'Campinas' 'Marília' 'Guarujá' 'Votuporanga' 'Parnaíba'\n",
      " 'Leme' \"Santa Bárbara d'Oeste\" 'Paulínia' 'Jaguariúna' 'São Paulo'\n",
      " 'Santa Adélia' 'Valinhos' 'Jales' 'Piracicaba' 'Osasco' 'Chapecó'\n",
      " 'Mongaguá' 'Carapicuíba' 'Santa Ernestina']\n",
      "\n",
      "Top 10 municípios:\n",
      "municipio\n",
      "São Paulo                487209\n",
      "Campinas                  98154\n",
      "Araraquara                66352\n",
      "São José dos Campos       63921\n",
      "Marília                   53738\n",
      "Botucatu                  43798\n",
      "São José do Rio Preto     42034\n",
      "São Bernardo do Campo     38979\n",
      "Guarulhos                 35381\n",
      "Carapicuíba               34175\n",
      "Name: count, dtype: int64\n",
      "Salvo em ../data/processed/sp_clean.parquet com fastparquet e compressão gzip.\n"
     ]
    }
   ],
   "source": [
    "for uf, path in files.items():\n",
    "    if os.path.exists(path):\n",
    "        print(f\"\\n--- {uf} ---\")\n",
    "        # Carregar somente as primeiras linhas para testar\n",
    "        df = pd.read_csv(path, sep=\";\", low_memory=False, on_bad_lines=\"skip\")\n",
    "        \n",
    "        # Padronizar nomes de colunas\n",
    "        df.columns = df.columns.str.lower()\n",
    "        print(\"Colunas:\", df.columns.tolist(), \"...\")\n",
    "\n",
    "        \n",
    "        if \"municipio\" in df.columns:\n",
    "            print(\"Shape:\", df.shape)\n",
    "            \n",
    "            # Amostra de municípios únicos\n",
    "            print(\"\\nMunicípios (amostra):\")\n",
    "            print(df[\"municipio\"].dropna().unique()[:20])\n",
    "            \n",
    "            # Frequência dos municípios mais comuns\n",
    "            print(\"\\nTop 10 municípios:\")\n",
    "            print(df[\"municipio\"].value_counts().head(10))\n",
    "        else:\n",
    "            print(\"Coluna 'municipio' não encontrada nesse arquivo.\")\n",
    "    else:\n",
    "        print(f\"Arquivo não encontrado: {path}\")\n",
    "     # salvar em Parquet (mais leve que CSV)\n",
    "    out_path = f\"../data/processed/{uf.lower()}_clean.parquet\"\n",
    "   \n",
    "    df.to_parquet(out_path, index=False, engine=\"fastparquet\", compression=\"gzip\")\n",
    "    print(f\"Salvo em {out_path} com fastparquet e compressão gzip.\")\n"
   ]
  }
 ],
 "metadata": {
  "kernelspec": {
   "display_name": "Python 3",
   "language": "python",
   "name": "python3"
  },
  "language_info": {
   "codemirror_mode": {
    "name": "ipython",
    "version": 3
   },
   "file_extension": ".py",
   "mimetype": "text/x-python",
   "name": "python",
   "nbconvert_exporter": "python",
   "pygments_lexer": "ipython3",
   "version": "3.12.2"
  }
 },
 "nbformat": 4,
 "nbformat_minor": 5
}
