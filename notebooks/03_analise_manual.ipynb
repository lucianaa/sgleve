{
 "cells": [
  {
   "cell_type": "markdown",
   "id": "81d9196a",
   "metadata": {},
   "source": [
    "# Análise Manual dos Dados\n",
    "\n",
    "Aqui exploramos os dados de forma mais direcionada, avaliando\n",
    "estatísticas descritivas, valores ausentes e distribuições relevantes.\n"
   ]
  },
  {
   "cell_type": "code",
   "execution_count": 1,
   "id": "ef36320a",
   "metadata": {},
   "outputs": [],
   "source": [
    "import pandas as pd\n",
    "\n",
    "# Carregar dados unificados\n",
    "df = pd.read_parquet(\"../data/processed/df_mgsprj.parquet\")"
   ]
  },
  {
   "cell_type": "code",
   "execution_count": 2,
   "id": "29142dc7",
   "metadata": {},
   "outputs": [
    {
     "name": "stdout",
     "output_type": "stream",
     "text": [
      "Shape: (3619487, 39)\n",
      "<class 'pandas.core.frame.DataFrame'>\n",
      "RangeIndex: 3619487 entries, 0 to 3619486\n",
      "Data columns (total 39 columns):\n",
      " #   Column                             Dtype  \n",
      "---  ------                             -----  \n",
      " 0   sintomas                           object \n",
      " 1   profissionalsaude                  object \n",
      " 2   racacor                            object \n",
      " 3   outrossintomas                     object \n",
      " 4   profissionalseguranca              object \n",
      " 5   condicoes                          object \n",
      " 6   sexo                               object \n",
      " 7   estado                             object \n",
      " 8   estadoibge                         object \n",
      " 9   municipio                          object \n",
      " 10  municipioibge                      object \n",
      " 11  origem                             object \n",
      " 12  estadonotificacao                  object \n",
      " 13  municipionotificacao               object \n",
      " 14  municipionotificacaoibge           float64\n",
      " 15  evolucaocaso                       object \n",
      " 16  classificacaofinal                 object \n",
      " 17  codigoestrategiacovid              float64\n",
      " 18  codigolocalrealizacaotestagem      float64\n",
      " 19  codigorecebeuvacina                object \n",
      " 20  codigolaboratorioprimeiradose      object \n",
      " 21  codigolaboratoriosegundadose       object \n",
      " 22  loteprimeiradose                   object \n",
      " 23  lotesegundadose                    object \n",
      " 24  codigocontemcomunidadetradicional  object \n",
      " 25  codigodosesvacina                  object \n",
      " 26  estadonotificacaoibge              object \n",
      " 27  totaltestesrealizados              object \n",
      " 28  datanotificacao                    object \n",
      " 29  datainiciosintomas                 object \n",
      " 30  dataencerramento                   object \n",
      " 31  dataprimeiradose                   object \n",
      " 32  datasegundadose                    object \n",
      " 33  codigoestadoteste1                 float64\n",
      " 34  codigotipoteste1                   float64\n",
      " 35  codigofabricanteteste1             float64\n",
      " 36  codigoresultadoteste1              float64\n",
      " 37  datacoletateste1                   object \n",
      " 38  idade                              float64\n",
      "dtypes: float64(8), object(31)\n",
      "memory usage: 1.1+ GB\n"
     ]
    }
   ],
   "source": [
    "# Shape e informações gerais\n",
    "print(\"Shape:\", df.shape)\n",
    "df.info()"
   ]
  },
  {
   "cell_type": "code",
   "execution_count": 3,
   "id": "c159ac19",
   "metadata": {},
   "outputs": [
    {
     "data": {
      "application/vnd.microsoft.datawrangler.viewer.v0+json": {
       "columns": [
        {
         "name": "index",
         "rawType": "object",
         "type": "string"
        },
        {
         "name": "0",
         "rawType": "float64",
         "type": "float"
        }
       ],
       "ref": "9a45cf4e-3bbc-4168-bcc4-1cbc63e09f63",
       "rows": [
        [
         "condicoes",
         "0.8816354361819783"
        ],
        [
         "outrossintomas",
         "0.8113995160087604"
        ],
        [
         "dataencerramento",
         "0.5041747628876689"
        ],
        [
         "classificacaofinal",
         "0.5008861753060586"
        ],
        [
         "evolucaocaso",
         "0.49494914610827445"
        ],
        [
         "datasegundadose",
         "0.3679919281378825"
        ],
        [
         "lotesegundadose",
         "0.35966505750676825"
        ],
        [
         "codigolaboratoriosegundadose",
         "0.35965925557958905"
        ],
        [
         "dataprimeiradose",
         "0.3259146945409667"
        ],
        [
         "loteprimeiradose",
         "0.31817298970821"
        ],
        [
         "codigolaboratorioprimeiradose",
         "0.3181594518781253"
        ],
        [
         "codigofabricanteteste1",
         "0.3136256602109636"
        ],
        [
         "codigodosesvacina",
         "0.28687932847942266"
        ],
        [
         "idade",
         "0.2639780167742003"
        ],
        [
         "codigoresultadoteste1",
         "0.2138833486623933"
        ],
        [
         "datacoletateste1",
         "0.18176691890314842"
        ],
        [
         "datainiciosintomas",
         "0.16876176098988613"
        ],
        [
         "codigotipoteste1",
         "0.13713877132311844"
        ],
        [
         "codigoestadoteste1",
         "0.13713711362963868"
        ],
        [
         "municipionotificacaoibge",
         "0.027424328364765504"
        ],
        [
         "estadonotificacaoibge",
         "0.027333707787871597"
        ],
        [
         "codigoestrategiacovid",
         "0.025262696067149846"
        ],
        [
         "codigolocalrealizacaotestagem",
         "0.025260209526930196"
        ],
        [
         "municipioibge",
         "0.010565585675539103"
        ],
        [
         "estadoibge",
         "0.010443745204776258"
        ],
        [
         "profissionalseguranca",
         "0.0006647350853864097"
        ],
        [
         "racacor",
         "0.0003202111238415831"
        ],
        [
         "municipionotificacao",
         "9.06205768939079e-05"
        ],
        [
         "profissionalsaude",
         "1.5748088057782775e-05"
        ],
        [
         "sintomas",
         "1.3261547838132862e-05"
        ]
       ],
       "shape": {
        "columns": 1,
        "rows": 30
       }
      },
      "text/plain": [
       "condicoes                        0.881635\n",
       "outrossintomas                   0.811400\n",
       "dataencerramento                 0.504175\n",
       "classificacaofinal               0.500886\n",
       "evolucaocaso                     0.494949\n",
       "datasegundadose                  0.367992\n",
       "lotesegundadose                  0.359665\n",
       "codigolaboratoriosegundadose     0.359659\n",
       "dataprimeiradose                 0.325915\n",
       "loteprimeiradose                 0.318173\n",
       "codigolaboratorioprimeiradose    0.318159\n",
       "codigofabricanteteste1           0.313626\n",
       "codigodosesvacina                0.286879\n",
       "idade                            0.263978\n",
       "codigoresultadoteste1            0.213883\n",
       "datacoletateste1                 0.181767\n",
       "datainiciosintomas               0.168762\n",
       "codigotipoteste1                 0.137139\n",
       "codigoestadoteste1               0.137137\n",
       "municipionotificacaoibge         0.027424\n",
       "estadonotificacaoibge            0.027334\n",
       "codigoestrategiacovid            0.025263\n",
       "codigolocalrealizacaotestagem    0.025260\n",
       "municipioibge                    0.010566\n",
       "estadoibge                       0.010444\n",
       "profissionalseguranca            0.000665\n",
       "racacor                          0.000320\n",
       "municipionotificacao             0.000091\n",
       "profissionalsaude                0.000016\n",
       "sintomas                         0.000013\n",
       "dtype: float64"
      ]
     },
     "execution_count": 3,
     "metadata": {},
     "output_type": "execute_result"
    }
   ],
   "source": [
    "# Valores ausentes\n",
    "df.isna().mean().sort_values(ascending=False).head(30)"
   ]
  },
  {
   "cell_type": "markdown",
   "id": "0818ee91",
   "metadata": {},
   "source": [
    "## Verificação de Colunas\n",
    "\n",
    "Nesta etapa, verificamos se algumas variáveis possuem apenas **um valor único** em todo o conjunto de dados.  \n",
    "Outras situações também podem ser avaliadas\n"
   ]
  },
  {
   "cell_type": "code",
   "execution_count": 4,
   "id": "7aca7b96",
   "metadata": {},
   "outputs": [
    {
     "name": "stdout",
     "output_type": "stream",
     "text": [
      "=== Inspeção Geral de Colunas ===\n",
      "\n",
      "[sintomas]  tipo=object  (nunique=7035)\n",
      "sintomas\n",
      "Assintomático                                    625961\n",
      "Outros                                           122227\n",
      "Coriza, Tosse                                    118011\n",
      "Tosse                                             98895\n",
      "Coriza, Dor de Cabeça, Tosse                      81440\n",
      "Coriza, Tosse, Febre                              73706\n",
      "Coriza                                            67684\n",
      "Tosse, Febre                                      60628\n",
      "Coriza, Tosse, Dor de Garganta                    54524\n",
      "Coriza, Dor de Cabeça, Tosse, Dor de Garganta     54450\n",
      "Name: count, dtype: int64\n",
      "\n",
      "[profissionalsaude]  tipo=object  (nunique=2)\n",
      "profissionalsaude\n",
      "Não     3561208\n",
      "Sim       58222\n",
      "None         57\n",
      "Name: count, dtype: int64\n",
      "\n",
      "[racacor]  tipo=object  (nunique=7)\n",
      "racacor\n",
      "Branca      1577605\n",
      "Parda        888674\n",
      "Ignorado     818857\n",
      "Preta        173354\n",
      "Amarela      157176\n",
      "Indigena       2661\n",
      "None           1159\n",
      "Branco            1\n",
      "Name: count, dtype: int64\n",
      "\n",
      "[outrossintomas]  tipo=object  (nunique=162737)\n",
      "outrossintomas\n",
      "None            2936850\n",
      "MIALGIA           70306\n",
      "DOR NO CORPO      41272\n",
      "mialgia           20654\n",
      "NI                19489\n",
      "IGN               18586\n",
      "dor no corpo      14046\n",
      "DIARREIA          11564\n",
      "Mialgia            7261\n",
      "DOR MUSCULAR       6952\n",
      "Name: count, dtype: int64\n",
      "\n",
      "[profissionalseguranca]  tipo=object  (nunique=2)\n",
      "profissionalseguranca\n",
      "Não     3612629\n",
      "Sim        4452\n",
      "None       2406\n",
      "Name: count, dtype: int64\n",
      "\n",
      "[condicoes]  tipo=object  (nunique=856)\n",
      "condicoes\n",
      "None                                             3191068\n",
      "Outros                                            114402\n",
      "Doenças respiratórias crônicas descompensadas     113642\n",
      "Doenças cardíacas crônicas                         60671\n",
      "Diabetes                                           34896\n",
      "Gestante                                           22448\n",
      "Doenças cardíacas crônicas, Diabetes               11218\n",
      "Imunossupressão                                    10005\n",
      "Diabetes, Outros                                    9737\n",
      "Diabetes, Doenças cardíacas crônicas                7704\n",
      "Name: count, dtype: int64\n",
      "\n",
      "[sexo]  tipo=object  (nunique=5)\n",
      "sexo\n",
      "Feminino      2176236\n",
      "Masculino     1443242\n",
      "Indefinido          3\n",
      "MG                  3\n",
      "None                2\n",
      "BA                  1\n",
      "Name: count, dtype: int64\n",
      "\n",
      "[estado]  tipo=object  (nunique=31)\n",
      "estado\n",
      "São Paulo         2189033\n",
      "Rio de Janeiro     820261\n",
      "Minas Gerais       558542\n",
      "Bahia                8812\n",
      "Ceará                3936\n",
      "Pernambuco           3814\n",
      "Paraná               3538\n",
      "Paraíba              3152\n",
      "Santa Catarina       3057\n",
      "Goiás                2898\n",
      "Name: count, dtype: int64\n",
      "\n",
      "[estadoibge]  tipo=object  (nunique=31)\n",
      "estadoibge\n",
      "SP      2163531\n",
      "RJ       819287\n",
      "MG       547771\n",
      "None      37801\n",
      "BA         8734\n",
      "CE         3935\n",
      "PE         3812\n",
      "PR         3537\n",
      "PB         3152\n",
      "SC         3034\n",
      "Name: count, dtype: int64\n",
      "\n",
      "[municipio]  tipo=object  (nunique=4438)\n",
      "municipio\n",
      "São Paulo              488613\n",
      "Rio de Janeiro         465993\n",
      "Campinas                98367\n",
      "São Gonçalo             92587\n",
      "Belo Horizonte          77600\n",
      "Araraquara              66380\n",
      "São José dos Campos     64059\n",
      "Montes Claros           55699\n",
      "Marília                 53793\n",
      "Botucatu                43809\n",
      "Name: count, dtype: int64\n",
      "\n",
      "[municipioibge]  tipo=object  (nunique=4628)\n",
      "municipioibge\n",
      "3550308    486980\n",
      "3304557    465539\n",
      "3509502     98344\n",
      "3304904     92474\n",
      "3106200     77592\n",
      "3503208     65798\n",
      "3549904     64057\n",
      "3143302     55625\n",
      "3529005     52820\n",
      "3507506     43810\n",
      "Name: count, dtype: int64\n",
      "\n",
      "[origem]  tipo=object  (nunique=7)\n",
      "origem\n",
      "parse-cloud            3616337\n",
      "aplicacao-web             2481\n",
      "RNDS                       652\n",
      "None                        13\n",
      "Uberlândia                   1\n",
      "Belo Horizonte               1\n",
      "Conselheiro Pena             1\n",
      "São José dos Campos          1\n",
      "Name: count, dtype: int64\n",
      "\n",
      "[estadonotificacao]  tipo=object  (nunique=7)\n",
      "estadonotificacao\n",
      "São Paulo         2226475\n",
      "Rio de Janeiro     838505\n",
      "Minas Gerais       554503\n",
      "3106200                 1\n",
      "3170206                 1\n",
      "3118403                 1\n",
      "3549904                 1\n",
      "Name: count, dtype: int64\n",
      "\n",
      "[municipionotificacao]  tipo=object  (nunique=1473)\n",
      "municipionotificacao\n",
      "São Paulo                529359\n",
      "Rio de Janeiro           490330\n",
      "Campinas                 106287\n",
      "São Gonçalo               97230\n",
      "Belo Horizonte            90943\n",
      "São José dos Campos       70156\n",
      "Araraquara                68393\n",
      "Montes Claros             56216\n",
      "São José do Rio Preto     54510\n",
      "Marília                   52241\n",
      "Name: count, dtype: int64\n",
      "\n",
      "[municipionotificacaoibge]  tipo=float64  (nunique=1505)\n",
      "municipionotificacaoibge\n",
      "3550308.0    520958\n",
      "3304557.0    488398\n",
      "3509502.0    104339\n",
      "NaN           99262\n",
      "3304904.0     97082\n",
      "3106200.0     88225\n",
      "3549904.0     70118\n",
      "3503208.0     65240\n",
      "3143302.0     55967\n",
      "3549805.0     54270\n",
      "Name: count, dtype: int64\n",
      "\n",
      "[evolucaocaso]  tipo=object  (nunique=8)\n",
      "evolucaocaso\n",
      "None                        1791462\n",
      "Cura                        1435749\n",
      "Ignorado                     275093\n",
      "Em tratamento domiciliar      69220\n",
      "Cancelado                     42692\n",
      "Internado                      2816\n",
      "Óbito                          1876\n",
      "Internado em UTI                575\n",
      "1                                 4\n",
      "Name: count, dtype: int64\n",
      "\n",
      "[classificacaofinal]  tipo=object  (nunique=6)\n",
      "classificacaofinal\n",
      "None                                 1812951\n",
      "Descartado                            850899\n",
      "Confirmado Laboratorial               480398\n",
      "Síndrome Gripal Não Especificada      434461\n",
      "Confirmado Clínico-Epidemiológico      24842\n",
      "Confirmado por Critério Clínico        15327\n",
      "Confirmado Clínico-Imagem                609\n",
      "Name: count, dtype: int64\n",
      "\n",
      "[codigoestrategiacovid]  tipo=float64  (nunique=3)\n",
      "codigoestrategiacovid\n",
      "1.0    3402872\n",
      "2.0     108535\n",
      "NaN      91438\n",
      "3.0      16642\n",
      "Name: count, dtype: int64\n",
      "\n",
      "[codigolocalrealizacaotestagem]  tipo=float64  (nunique=7)\n",
      "codigolocalrealizacaotestagem\n",
      "1.0    3351013\n",
      "NaN      91429\n",
      "4.0      80136\n",
      "7.0      72534\n",
      "2.0      14907\n",
      "5.0       5745\n",
      "6.0       2704\n",
      "3.0       1019\n",
      "Name: count, dtype: int64\n",
      "\n",
      "[codigorecebeuvacina]  tipo=object  (nunique=10)\n",
      "codigorecebeuvacina\n",
      "1.0                 2242375\n",
      "nan                  502218\n",
      "1                    377864\n",
      "2.0                  319623\n",
      "None                 126009\n",
      "2                     50325\n",
      "3.0                     765\n",
      "3                       306\n",
      "PFIZER                    1\n",
      "SINOVAC/BUTANTAN          1\n",
      "Name: count, dtype: int64\n",
      "\n",
      "[codigolaboratorioprimeiradose]  tipo=object  (nunique=30)\n",
      "codigolaboratorioprimeiradose\n",
      "None                                   1151574\n",
      "ASTRAZENECA/FIOCRUZ                     861861\n",
      "SINOVAC/BUTANTAN                        839975\n",
      "PFIZER                                  648135\n",
      "Pendente Identificação                   31360\n",
      "ASTRAZENECA                              30641\n",
      "PFIZER - PEDIÁTRICA MENOR DE 5 ANOS      28786\n",
      "Pendente Identifica??o                   14028\n",
      "PFIZER - PEDIÁTRICA                       9238\n",
      "JANSSEN                                   1226\n",
      "Name: count, dtype: int64\n",
      "\n",
      "[codigolaboratoriosegundadose]  tipo=object  (nunique=30)\n",
      "codigolaboratoriosegundadose\n",
      "None                                   1301782\n",
      "SINOVAC/BUTANTAN                        786020\n",
      "ASTRAZENECA/FIOCRUZ                     770640\n",
      "PFIZER                                  668671\n",
      "ASTRAZENECA                              24876\n",
      "Pendente Identificação                   24643\n",
      "PFIZER - PEDIÁTRICA MENOR DE 5 ANOS      19912\n",
      "PFIZER - PEDIÁTRICA                      13991\n",
      "Pendente Identifica??o                    6079\n",
      "JANSSEN                                   1100\n",
      "Name: count, dtype: int64\n",
      "\n",
      "[loteprimeiradose]  tipo=object  (nunique=1963)\n",
      "loteprimeiradose\n",
      "None         1151623\n",
      "ABX0529        50894\n",
      "FD7222         39908\n",
      "FA9095         38693\n",
      "EY0574         34729\n",
      "28235BD        33498\n",
      "4120Z005       32910\n",
      "FD7221         32179\n",
      "FE3591         31691\n",
      "202010033      27193\n",
      "Name: count, dtype: int64\n",
      "\n",
      "[lotesegundadose]  tipo=object  (nunique=1855)\n",
      "lotesegundadose\n",
      "None          1301803\n",
      "FG3530          40031\n",
      "FG3533          38020\n",
      "FM3809          34777\n",
      "217VCD222Z      31555\n",
      "FJ4184          29445\n",
      "FJ4187          26351\n",
      "FF8844          25649\n",
      "FF8845          22313\n",
      "FG3524          22014\n",
      "Name: count, dtype: int64\n",
      "\n",
      "[codigocontemcomunidadetradicional]  tipo=object  (nunique=7)\n",
      "codigocontemcomunidadetradicional\n",
      "2        2737991\n",
      "2.0       836567\n",
      "None       38310\n",
      "1           4677\n",
      "nan         1299\n",
      "1.0          639\n",
      "false          4\n",
      "Name: count, dtype: int64\n",
      "\n",
      "[codigodosesvacina]  tipo=object  (nunique=19)\n",
      "codigodosesvacina\n",
      "None       1038356\n",
      "1,2,3,4     814607\n",
      "1,2         765809\n",
      "1,2,3       744717\n",
      "1           164987\n",
      "2            47645\n",
      "2,1          19941\n",
      "3,1,2         3456\n",
      "3,2,1         3442\n",
      "1,3,2         3387\n",
      "Name: count, dtype: int64\n",
      "\n",
      "[estadonotificacaoibge]  tipo=object  (nunique=7)\n",
      "estadonotificacaoibge\n",
      "SP            2147722\n",
      "RJ             835278\n",
      "MG             537549\n",
      "None            98934\n",
      "2024-07-16          1\n",
      "2024-11-12          1\n",
      "2024-02-20          1\n",
      "2024-10-26          1\n",
      "Name: count, dtype: int64\n",
      "\n",
      "[totaltestesrealizados]  tipo=object  (nunique=29)\n",
      "totaltestesrealizados\n",
      "1     3527106\n",
      "2       83072\n",
      "3        6906\n",
      "4        1412\n",
      "5         515\n",
      "6         230\n",
      "7         102\n",
      "8          51\n",
      "9          30\n",
      "10         17\n",
      "Name: count, dtype: int64\n",
      "\n",
      "[datanotificacao]  tipo=object  (nunique=1890)\n",
      "datanotificacao\n",
      "2024-02-26    39934\n",
      "2024-02-27    37206\n",
      "2024-02-19    36152\n",
      "2024-03-04    35939\n",
      "2024-02-28    35782\n",
      "2024-02-21    34493\n",
      "2024-02-22    33959\n",
      "2024-02-20    33749\n",
      "2024-02-29    33011\n",
      "2024-02-23    32722\n",
      "Name: count, dtype: int64\n",
      "\n",
      "[datainiciosintomas]  tipo=object  (nunique=1926)\n",
      "datainiciosintomas\n",
      "None          610831\n",
      "2024-02-19     31034\n",
      "2024-02-26     30264\n",
      "2024-02-20     29622\n",
      "2024-02-25     29217\n",
      "2024-03-01     28228\n",
      "2024-02-18     27250\n",
      "2024-02-24     26040\n",
      "2024-02-23     25667\n",
      "2024-02-17     24183\n",
      "Name: count, dtype: int64\n",
      "\n",
      "[dataencerramento]  tipo=object  (nunique=2139)\n",
      "dataencerramento\n",
      "None          1824854\n",
      "2024-02-26      13815\n",
      "2024-02-28      12932\n",
      "2024-03-06      12674\n",
      "2024-03-04      12472\n",
      "2024-03-01      12472\n",
      "2024-02-29      12227\n",
      "2024-02-27      11774\n",
      "2024-03-05      11757\n",
      "2024-02-22      11268\n",
      "Name: count, dtype: int64\n",
      "\n",
      "[dataprimeiradose]  tipo=object  (nunique=1288)\n",
      "dataprimeiradose\n",
      "None          1179644\n",
      "2021-06-16      24475\n",
      "2021-08-13      24298\n",
      "2021-08-10      24238\n",
      "2021-06-17      21937\n",
      "2021-08-14      21375\n",
      "2021-08-12      20834\n",
      "2021-08-11      20803\n",
      "2021-06-23      20723\n",
      "2021-06-18      19907\n",
      "Name: count, dtype: int64\n",
      "\n",
      "[datasegundadose]  tipo=object  (nunique=1272)\n",
      "datasegundadose\n",
      "None          1331942\n",
      "2021-09-08      33627\n",
      "2021-09-09      28730\n",
      "2021-09-01      23752\n",
      "2021-09-14      23724\n",
      "2021-09-10      23377\n",
      "2021-09-03      22002\n",
      "2021-09-13      21685\n",
      "2021-09-02      20680\n",
      "2021-08-18      20483\n",
      "Name: count, dtype: int64\n",
      "\n",
      "[codigoestadoteste1]  tipo=float64  (nunique=6)\n",
      "codigoestadoteste1\n",
      "3.0      2845500\n",
      "NaN       496366\n",
      "2.0       116002\n",
      "4.0       105656\n",
      "1.0        55961\n",
      "715.0          1\n",
      "915.0          1\n",
      "Name: count, dtype: int64\n",
      "\n",
      "[codigotipoteste1]  tipo=float64  (nunique=9)\n",
      "codigotipoteste1\n",
      "3.0    2719133\n",
      "NaN     496372\n",
      "1.0     356145\n",
      "4.0      23129\n",
      "5.0      14340\n",
      "2.0       5046\n",
      "9.0       2911\n",
      "8.0       1624\n",
      "7.0        680\n",
      "6.0        107\n",
      "Name: count, dtype: int64\n",
      "\n",
      "[codigofabricanteteste1]  tipo=float64  (nunique=88)\n",
      "codigofabricanteteste1\n",
      "915.0    2036781\n",
      "NaN      1135164\n",
      "792.0     246738\n",
      "715.0     199779\n",
      "322.0        337\n",
      "1.0          134\n",
      "908.0        102\n",
      "676.0         66\n",
      "91.0          54\n",
      "665.0         27\n",
      "Name: count, dtype: int64\n",
      "\n",
      "[codigoresultadoteste1]  tipo=float64  (nunique=3)\n",
      "codigoresultadoteste1\n",
      "2.0    2163020\n",
      "NaN     774148\n",
      "1.0     679147\n",
      "3.0       3172\n",
      "Name: count, dtype: int64\n",
      "\n",
      "[datacoletateste1]  tipo=object  (nunique=1971)\n",
      "datacoletateste1\n",
      "None          657903\n",
      "2024-02-26     36352\n",
      "2024-02-19     33858\n",
      "2024-02-27     31545\n",
      "2024-03-04     31234\n",
      "2024-02-21     30878\n",
      "2024-02-20     30599\n",
      "2024-02-22     29463\n",
      "2024-02-23     28812\n",
      "2024-02-29     28782\n",
      "Name: count, dtype: int64\n",
      "\n",
      "[idade]  tipo=float64  (nunique=56)\n",
      "idade\n",
      "NaN     955465\n",
      "26.0     64031\n",
      "24.0     63473\n",
      "25.0     63324\n",
      "27.0     62608\n",
      "0.0      62496\n",
      "42.0     61959\n",
      "28.0     61474\n",
      "41.0     60936\n",
      "29.0     60629\n",
      "Name: count, dtype: int64\n"
     ]
    }
   ],
   "source": [
    "print(\"=== Inspeção Geral de Colunas ===\")\n",
    "\n",
    "for col in df.columns:\n",
    "    nun = df[col].nunique(dropna=True)\n",
    "    tipo = df[col].dtype\n",
    "    print(f\"\\n[{col}]  tipo={tipo}  (nunique={nun})\")\n",
    "\n",
    "    # Mostra os 10 valores mais comuns\n",
    "    print(df[col].value_counts(dropna=False).head(10))\n"
   ]
  },
  {
   "cell_type": "code",
   "execution_count": null,
   "id": "fc4dafe4",
   "metadata": {},
   "outputs": [
    {
     "data": {
      "text/plain": [
       "(3619487, 34)"
      ]
     },
     "execution_count": 97,
     "metadata": {},
     "output_type": "execute_result"
    }
   ],
   "source": [
    "cols_drop = [\"validado\", \"excluido\", \"source_id\", 'municipioibge','origem', 'estadoibge']\n",
    "\n",
    "df_reduzido = df.drop(columns=cols_drop, errors=\"ignore\")\n",
    "df_reduzido.shape"
   ]
  },
  {
   "cell_type": "code",
   "execution_count": null,
   "id": "58c488cb",
   "metadata": {},
   "outputs": [],
   "source": [
    "#fazer as codificações manuais conforme análise anterior"
   ]
  },
  {
   "cell_type": "code",
   "execution_count": 6,
   "id": "c8539941",
   "metadata": {},
   "outputs": [
    {
     "data": {
      "application/vnd.microsoft.datawrangler.viewer.v0+json": {
       "columns": [
        {
         "name": "sexo",
         "rawType": "float64",
         "type": "float"
        },
        {
         "name": "count",
         "rawType": "int64",
         "type": "integer"
        }
       ],
       "ref": "d81d5922-1981-4d3e-a8f6-7792247f61ba",
       "rows": [
        [
         "0.0",
         "2176236"
        ],
        [
         "1.0",
         "1443242"
        ],
        [
         null,
         "9"
        ]
       ],
       "shape": {
        "columns": 1,
        "rows": 3
       }
      },
      "text/plain": [
       "sexo\n",
       "0.0    2176236\n",
       "1.0    1443242\n",
       "NaN          9\n",
       "Name: count, dtype: int64"
      ]
     },
     "execution_count": 6,
     "metadata": {},
     "output_type": "execute_result"
    }
   ],
   "source": [
    "#mapear alguns valores categóricos para numéricos\n",
    "map_binario = {\"Sim\": 1, \"Não\": 0}\n",
    "\n",
    "map_sexo = {\n",
    "    \"Masculino\": 1,\n",
    "    \"Feminino\": 0\n",
    "}\n",
    "\n",
    "df_cod = df.copy()\n",
    "# Binário\n",
    "for col in [\"profissionalsaude\", \"profissionalseguranca\", \"codigorecebeuvacina\"]:\n",
    "    if col in df_cod.columns:\n",
    "        df_cod[col] = df_cod[col].map(map_binario)\n",
    "\n",
    "# Sexo\n",
    "if \"sexo\" in df_cod.columns:\n",
    "    df_cod[\"sexo\"] = df_cod[\"sexo\"].map(map_sexo)\n",
    "\n",
    "df_cod[\"sexo\"].value_counts(dropna=False)"
   ]
  },
  {
   "cell_type": "code",
   "execution_count": 7,
   "id": "52a3e0fb",
   "metadata": {},
   "outputs": [
    {
     "data": {
      "text/plain": [
       "(3619478, 39)"
      ]
     },
     "execution_count": 7,
     "metadata": {},
     "output_type": "execute_result"
    }
   ],
   "source": [
    "df_cod = df_cod.dropna(subset=[\"sexo\"])\n",
    "df_cod.shape #importante verificar se a remoção de NaN removeu corretamente as linhas com NaN em 'sexo'"
   ]
  },
  {
   "cell_type": "code",
   "execution_count": 9,
   "id": "f0dfc8cb",
   "metadata": {},
   "outputs": [
    {
     "name": "stdout",
     "output_type": "stream",
     "text": [
      "Shape com evolução: (1828016, 39)\n"
     ]
    }
   ],
   "source": [
    "#filtrar apenas registros com evolução preenchida (recorte escolhido)\n",
    "df_com_evolucao = df_cod.dropna(subset=[\"evolucaocaso\"])\n",
    "print(\"Shape com evolução:\", df_com_evolucao.shape)\n"
   ]
  },
  {
   "cell_type": "code",
   "execution_count": 10,
   "id": "a5f8593e",
   "metadata": {},
   "outputs": [
    {
     "name": "stdout",
     "output_type": "stream",
     "text": [
      "\n",
      "Distribuição - Evolução do caso:\n"
     ]
    },
    {
     "data": {
      "application/vnd.microsoft.datawrangler.viewer.v0+json": {
       "columns": [
        {
         "name": "evolucaocaso",
         "rawType": "object",
         "type": "string"
        },
        {
         "name": "count",
         "rawType": "int64",
         "type": "integer"
        }
       ],
       "ref": "1176762a-3653-480e-a091-be1068f349ae",
       "rows": [
        [
         "Cura",
         "1435746"
        ],
        [
         "Ignorado",
         "275091"
        ],
        [
         "Em tratamento domiciliar",
         "69220"
        ],
        [
         "Cancelado",
         "42692"
        ],
        [
         "Internado",
         "2816"
        ],
        [
         "Óbito",
         "1876"
        ],
        [
         "Internado em UTI",
         "575"
        ]
       ],
       "shape": {
        "columns": 1,
        "rows": 7
       }
      },
      "text/plain": [
       "evolucaocaso\n",
       "Cura                        1435746\n",
       "Ignorado                     275091\n",
       "Em tratamento domiciliar      69220\n",
       "Cancelado                     42692\n",
       "Internado                      2816\n",
       "Óbito                          1876\n",
       "Internado em UTI                575\n",
       "Name: count, dtype: int64"
      ]
     },
     "metadata": {},
     "output_type": "display_data"
    }
   ],
   "source": [
    "print(\"\\nDistribuição - Evolução do caso:\")\n",
    "display(df_com_evolucao[\"evolucaocaso\"].value_counts())\n",
    "#será se é possível prever os casos de óbito? Aqui já se vê que é um problema de classes desbalanceadas."
   ]
  },
  {
   "cell_type": "code",
   "execution_count": null,
   "id": "02f46e11",
   "metadata": {},
   "outputs": [
    {
     "data": {
      "application/vnd.microsoft.datawrangler.viewer.v0+json": {
       "columns": [
        {
         "name": "classificacaofinal",
         "rawType": "object",
         "type": "unknown"
        },
        {
         "name": "count",
         "rawType": "int64",
         "type": "integer"
        }
       ],
       "ref": "55ac16af-a1e5-4e21-aff5-cda121e5b57a",
       "rows": [
        [
         "Descartado",
         "840814"
        ],
        [
         "Confirmado Laboratorial",
         "477648"
        ],
        [
         "Síndrome Gripal Não Especificada",
         "425675"
        ],
        [
         null,
         "43541"
        ],
        [
         "Confirmado Clínico-Epidemiológico",
         "24424"
        ],
        [
         "Confirmado por Critério Clínico",
         "15318"
        ],
        [
         "Confirmado Clínico-Imagem",
         "605"
        ]
       ],
       "shape": {
        "columns": 1,
        "rows": 7
       }
      },
      "text/plain": [
       "classificacaofinal\n",
       "Descartado                           840814\n",
       "Confirmado Laboratorial              477648\n",
       "Síndrome Gripal Não Especificada     425675\n",
       "None                                  43541\n",
       "Confirmado Clínico-Epidemiológico     24424\n",
       "Confirmado por Critério Clínico       15318\n",
       "Confirmado Clínico-Imagem               605\n",
       "Name: count, dtype: int64"
      ]
     },
     "execution_count": 101,
     "metadata": {},
     "output_type": "execute_result"
    }
   ],
   "source": [
    "df_com_evolucao[\"classificacaofinal\"].value_counts(dropna=False)\n",
    "#casos de óbitos por Covid-19?"
   ]
  },
  {
   "cell_type": "code",
   "execution_count": 11,
   "id": "ce446ad1",
   "metadata": {},
   "outputs": [
    {
     "name": "stdout",
     "output_type": "stream",
     "text": [
      "Total com evolução: (1828016, 39)\n",
      "Confirmados: (517993, 39)\n",
      "Não confirmados: (1310023, 39)\n"
     ]
    }
   ],
   "source": [
    "# Trabalhar apenas com registros que têm evolução preenchida\n",
    "\n",
    "# Definir categorias de confirmados\n",
    "confirmados_labels = [\n",
    "    \"Confirmado Laboratorial\",\n",
    "    \"Confirmado Clínico-Epidemiológico\",\n",
    "    \"Confirmado por Critério Clínico\",\n",
    "    \"Confirmado Clínico-Imagem\"\n",
    "]\n",
    "\n",
    "# Separar datasets\n",
    "df_confirmados = df_com_evolucao[df_com_evolucao[\"classificacaofinal\"].isin(confirmados_labels)]\n",
    "df_nao_confirmados = df_com_evolucao[~df_com_evolucao[\"classificacaofinal\"].isin(confirmados_labels)]\n",
    "\n",
    "print(\"Total com evolução:\", df_com_evolucao.shape)\n",
    "print(\"Confirmados:\", df_confirmados.shape)\n",
    "print(\"Não confirmados:\", df_nao_confirmados.shape)\n"
   ]
  },
  {
   "cell_type": "markdown",
   "id": "91414adc",
   "metadata": {},
   "source": [
    "##  Visualização e Interpretabilidade de Dados"
   ]
  },
  {
   "cell_type": "markdown",
   "id": "471eb2c0",
   "metadata": {},
   "source": [
    "**Distribuição de Idade (casos confirmados):**  \n",
    "O histograma mostra picos entre os **30 e 45 anos**. Há menos registros de crianças e idosos no conjunto, \n",
    "o que pode refletir tanto características da pandemia quanto padrões de notificação, tanto de tamanho da população.\n"
   ]
  },
  {
   "cell_type": "code",
   "execution_count": 14,
   "id": "ee43e047",
   "metadata": {},
   "outputs": [
    {
     "data": {
      "image/png": "[encoded data removed]",
      "text/plain": [
       "<Figure size 1000x600 with 1 Axes>"
      ]
     },
     "metadata": {},
     "output_type": "display_data"
    }
   ],
   "source": [
    "import seaborn as sns\n",
    "import matplotlib.pyplot as plt\n",
    "\n",
    "# Histograma de idade dos casos confirmados\n",
    "plt.figure(figsize=(10, 6))\n",
    "sns.histplot(df_confirmados['idade'], bins=30)\n",
    "plt.legend([\"Casos confirmados de COVID-19\"])  # legenda\n",
    "plt.xlabel('Idade')\n",
    "plt.title('Distribuição de Idade')\n",
    "plt.show()\n"
   ]
  },
  {
   "cell_type": "markdown",
   "id": "e1b12f46",
   "metadata": {},
   "source": [
    "![pop.jpeg](pop.png)\n",
    "\n",
    "A pirâmide etária do Brasil (2022) mostra que grande parte da população está entre 20-60 anos, com faixa jovem e idosa menores em proporção. Ao comparar com o histograma de casos confirmados, vemos que os casos parecem seguir essa base demográfica.\n",
    "\n",
    "Porém certas faixas parecem subrepresentadas (ex: menos casos em idades muito baixas) — o que pode indicar vieses de testagem."
   ]
  },
  {
   "cell_type": "markdown",
   "id": "0681bf24",
   "metadata": {},
   "source": [
    "**Distribuição da Idade por Evolução do Caso de COVID-19**\n",
    "O gráfico boxplot apresenta a variação da idade dos pacientes segundo a evolução do caso registrada no e-SUS Notifica. Cada caixa mostra a mediana (linha verde), os quartis (limites da caixa) e possíveis valores extremos."
   ]
  },
  {
   "cell_type": "code",
   "execution_count": 103,
   "id": "06a8df04",
   "metadata": {},
   "outputs": [
    {
     "data": {
      "text/plain": [
       "<Figure size 1000x600 with 0 Axes>"
      ]
     },
     "metadata": {},
     "output_type": "display_data"
    },
    {
     "data": {
      "image/png": "[encoded data removed]",
      "text/plain": [
       "<Figure size 640x480 with 1 Axes>"
      ]
     },
     "metadata": {},
     "output_type": "display_data"
    }
   ],
   "source": [
    "import matplotlib.pyplot as plt\n",
    "\n",
    "plt.figure(figsize=(10,6))\n",
    "df_confirmados.boxplot(column=\"idade\", by=\"evolucaocaso\")\n",
    "plt.xticks(rotation=30, ha=\"right\")  # gira e alinha à direita\n",
    "plt.title(\"Idade vs Evolução do Caso\")\n",
    "plt.suptitle(\"\")  # remove título automático do pandas\n",
    "plt.xlabel(\"Evolução do Caso\")\n",
    "plt.ylabel(\"Idade\")\n",
    "plt.show()\n"
   ]
  },
  {
   "cell_type": "markdown",
   "id": "af0a9fe7",
   "metadata": {},
   "source": [
    "**Interpretação:** Observa-se que os casos de **internação em UTI** concentram-se em idades mais elevadas, \n",
    "Isso pode reforçar a maior gravidade da COVID-19 em grupos etários mais velhos.\n"
   ]
  },
  {
   "cell_type": "markdown",
   "id": "e80131e2",
   "metadata": {},
   "source": [
    "**Sobre o boxplot:**  \n",
    "O boxplot é um gráfico que resume a distribuição de uma variável numérica.  \n",
    "- A linha central da caixa representa a **mediana**.  \n",
    "- As bordas da caixa mostram o **1º e 3º quartil** (25% e 75% dos dados).  \n",
    "\n",
    "- Valores muito extremos podem aparecer como **pontos isolados** (outliers).  \n"
   ]
  }
 ],
 "metadata": {
  "kernelspec": {
   "display_name": "Python 3",
   "language": "python",
   "name": "python3"
  },
  "language_info": {
   "codemirror_mode": {
    "name": "ipython",
    "version": 3
   },
   "file_extension": ".py",
   "mimetype": "text/x-python",
   "name": "python",
   "nbconvert_exporter": "python",
   "pygments_lexer": "ipython3",
   "version": "3.12.2"
  }
 },
 "nbformat": 4,
 "nbformat_minor": 5
}
