version https://git-lfs.github.com/spec/v1
oid sha256:ff6173b56797ae0d2fd3a2cefe75893916e9e8e04798d31f71bb23868c2cfad1
size 107695
